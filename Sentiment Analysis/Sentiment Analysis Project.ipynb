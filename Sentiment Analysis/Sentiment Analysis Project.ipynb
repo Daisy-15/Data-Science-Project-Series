{
 "cells": [
  {
   "cell_type": "markdown",
   "id": "530ebdcf-0ea2-4aae-8397-3d96a680c2f0",
   "metadata": {},
   "source": [
    "<h1>Import Libraries</h1>"
   ]
  },
  {
   "cell_type": "code",
   "execution_count": 1,
   "id": "9fa9fabb",
   "metadata": {},
   "outputs": [
    {
     "name": "stderr",
     "output_type": "stream",
     "text": [
      "[nltk_data] Downloading package punkt to\n",
      "[nltk_data]     C:\\Users\\daisy\\AppData\\Roaming\\nltk_data...\n",
      "[nltk_data]   Package punkt is already up-to-date!\n",
      "[nltk_data] Downloading package stopwords to\n",
      "[nltk_data]     C:\\Users\\daisy\\AppData\\Roaming\\nltk_data...\n",
      "[nltk_data]   Package stopwords is already up-to-date!\n",
      "[nltk_data] Downloading package wordnet to\n",
      "[nltk_data]     C:\\Users\\daisy\\AppData\\Roaming\\nltk_data...\n",
      "[nltk_data]   Package wordnet is already up-to-date!\n"
     ]
    }
   ],
   "source": [
    "import pandas as pd\n",
    "import numpy as np\n",
    "import matplotlib.pyplot as plt\n",
    "import seaborn as sns\n",
    "\n",
    "import nltk\n",
    "nltk.download('punkt')\n",
    "\n",
    "import re\n",
    "\n",
    "from nltk.tokenize import word_tokenize\n",
    "from nltk.corpus import stopwords\n",
    "from nltk.stem import WordNetLemmatizer\n",
    "import string\n",
    "nltk.download('stopwords')\n",
    "nltk.download('wordnet')\n",
    "\n",
    "import warnings\n",
    "warnings.filterwarnings(\"ignore\")"
   ]
  },
  {
   "cell_type": "markdown",
   "id": "2023db22-3bcf-479e-b94e-12cfdb4b4692",
   "metadata": {},
   "source": [
    "<h1>Importing Dataset</h1>"
   ]
  },
  {
   "cell_type": "code",
   "execution_count": 2,
   "id": "53f92449",
   "metadata": {},
   "outputs": [],
   "source": [
    "df = pd.read_csv('train.csv', encoding='ISO-8859-1')"
   ]
  },
  {
   "cell_type": "markdown",
   "id": "88215cf0-7114-4b13-97b0-3a3f8509f867",
   "metadata": {},
   "source": [
    "<h1>Data Cleaning and Exploration</h1>"
   ]
  },
  {
   "cell_type": "code",
   "execution_count": 3,
   "id": "a075a0d3",
   "metadata": {},
   "outputs": [
    {
     "data": {
      "text/html": [
       "<div>\n",
       "<style scoped>\n",
       "    .dataframe tbody tr th:only-of-type {\n",
       "        vertical-align: middle;\n",
       "    }\n",
       "\n",
       "    .dataframe tbody tr th {\n",
       "        vertical-align: top;\n",
       "    }\n",
       "\n",
       "    .dataframe thead th {\n",
       "        text-align: right;\n",
       "    }\n",
       "</style>\n",
       "<table border=\"1\" class=\"dataframe\">\n",
       "  <thead>\n",
       "    <tr style=\"text-align: right;\">\n",
       "      <th></th>\n",
       "      <th>textID</th>\n",
       "      <th>text</th>\n",
       "      <th>selected_text</th>\n",
       "      <th>sentiment</th>\n",
       "      <th>Time of Tweet</th>\n",
       "      <th>Age of User</th>\n",
       "      <th>Country</th>\n",
       "      <th>Population -2020</th>\n",
       "      <th>Land Area (Km²)</th>\n",
       "      <th>Density (P/Km²)</th>\n",
       "    </tr>\n",
       "  </thead>\n",
       "  <tbody>\n",
       "    <tr>\n",
       "      <th>0</th>\n",
       "      <td>cb774db0d1</td>\n",
       "      <td>I`d have responded, if I were going</td>\n",
       "      <td>I`d have responded, if I were going</td>\n",
       "      <td>neutral</td>\n",
       "      <td>morning</td>\n",
       "      <td>0-20</td>\n",
       "      <td>Afghanistan</td>\n",
       "      <td>38928346</td>\n",
       "      <td>652860.0</td>\n",
       "      <td>60</td>\n",
       "    </tr>\n",
       "    <tr>\n",
       "      <th>1</th>\n",
       "      <td>549e992a42</td>\n",
       "      <td>Sooo SAD I will miss you here in San Diego!!!</td>\n",
       "      <td>Sooo SAD</td>\n",
       "      <td>negative</td>\n",
       "      <td>noon</td>\n",
       "      <td>21-30</td>\n",
       "      <td>Albania</td>\n",
       "      <td>2877797</td>\n",
       "      <td>27400.0</td>\n",
       "      <td>105</td>\n",
       "    </tr>\n",
       "    <tr>\n",
       "      <th>2</th>\n",
       "      <td>088c60f138</td>\n",
       "      <td>my boss is bullying me...</td>\n",
       "      <td>bullying me</td>\n",
       "      <td>negative</td>\n",
       "      <td>night</td>\n",
       "      <td>31-45</td>\n",
       "      <td>Algeria</td>\n",
       "      <td>43851044</td>\n",
       "      <td>2381740.0</td>\n",
       "      <td>18</td>\n",
       "    </tr>\n",
       "    <tr>\n",
       "      <th>3</th>\n",
       "      <td>9642c003ef</td>\n",
       "      <td>what interview! leave me alone</td>\n",
       "      <td>leave me alone</td>\n",
       "      <td>negative</td>\n",
       "      <td>morning</td>\n",
       "      <td>46-60</td>\n",
       "      <td>Andorra</td>\n",
       "      <td>77265</td>\n",
       "      <td>470.0</td>\n",
       "      <td>164</td>\n",
       "    </tr>\n",
       "    <tr>\n",
       "      <th>4</th>\n",
       "      <td>358bd9e861</td>\n",
       "      <td>Sons of ****, why couldn`t they put them on t...</td>\n",
       "      <td>Sons of ****,</td>\n",
       "      <td>negative</td>\n",
       "      <td>noon</td>\n",
       "      <td>60-70</td>\n",
       "      <td>Angola</td>\n",
       "      <td>32866272</td>\n",
       "      <td>1246700.0</td>\n",
       "      <td>26</td>\n",
       "    </tr>\n",
       "  </tbody>\n",
       "</table>\n",
       "</div>"
      ],
      "text/plain": [
       "       textID                                               text   \n",
       "0  cb774db0d1                I`d have responded, if I were going  \\\n",
       "1  549e992a42      Sooo SAD I will miss you here in San Diego!!!   \n",
       "2  088c60f138                          my boss is bullying me...   \n",
       "3  9642c003ef                     what interview! leave me alone   \n",
       "4  358bd9e861   Sons of ****, why couldn`t they put them on t...   \n",
       "\n",
       "                         selected_text sentiment Time of Tweet Age of User   \n",
       "0  I`d have responded, if I were going   neutral       morning        0-20  \\\n",
       "1                             Sooo SAD  negative          noon       21-30   \n",
       "2                          bullying me  negative         night       31-45   \n",
       "3                       leave me alone  negative       morning       46-60   \n",
       "4                        Sons of ****,  negative          noon       60-70   \n",
       "\n",
       "       Country  Population -2020  Land Area (Km²)  Density (P/Km²)  \n",
       "0  Afghanistan          38928346         652860.0               60  \n",
       "1      Albania           2877797          27400.0              105  \n",
       "2      Algeria          43851044        2381740.0               18  \n",
       "3      Andorra             77265            470.0              164  \n",
       "4       Angola          32866272        1246700.0               26  "
      ]
     },
     "execution_count": 3,
     "metadata": {},
     "output_type": "execute_result"
    }
   ],
   "source": [
    "df.head()"
   ]
  },
  {
   "cell_type": "code",
   "execution_count": 4,
   "id": "f3f2fdf1",
   "metadata": {},
   "outputs": [
    {
     "name": "stdout",
     "output_type": "stream",
     "text": [
      "<class 'pandas.core.frame.DataFrame'>\n",
      "RangeIndex: 27481 entries, 0 to 27480\n",
      "Data columns (total 10 columns):\n",
      " #   Column            Non-Null Count  Dtype  \n",
      "---  ------            --------------  -----  \n",
      " 0   textID            27481 non-null  object \n",
      " 1   text              27480 non-null  object \n",
      " 2   selected_text     27480 non-null  object \n",
      " 3   sentiment         27481 non-null  object \n",
      " 4   Time of Tweet     27481 non-null  object \n",
      " 5   Age of User       27481 non-null  object \n",
      " 6   Country           27481 non-null  object \n",
      " 7   Population -2020  27481 non-null  int64  \n",
      " 8   Land Area (Km²)   27481 non-null  float64\n",
      " 9   Density (P/Km²)   27481 non-null  int64  \n",
      "dtypes: float64(1), int64(2), object(7)\n",
      "memory usage: 2.1+ MB\n"
     ]
    }
   ],
   "source": [
    "df.info()"
   ]
  },
  {
   "cell_type": "code",
   "execution_count": 5,
   "id": "0cdb03f4",
   "metadata": {
    "scrolled": true
   },
   "outputs": [
    {
     "data": {
      "text/plain": [
       "False"
      ]
     },
     "execution_count": 5,
     "metadata": {},
     "output_type": "execute_result"
    }
   ],
   "source": [
    "df.duplicated().any()"
   ]
  },
  {
   "cell_type": "code",
   "execution_count": 6,
   "id": "e40e9c80",
   "metadata": {},
   "outputs": [
    {
     "data": {
      "text/plain": [
       "(27481, 10)"
      ]
     },
     "execution_count": 6,
     "metadata": {},
     "output_type": "execute_result"
    }
   ],
   "source": [
    "df.shape"
   ]
  },
  {
   "cell_type": "code",
   "execution_count": 7,
   "id": "2b1654a8",
   "metadata": {},
   "outputs": [
    {
     "data": {
      "text/plain": [
       "textID              0\n",
       "text                1\n",
       "selected_text       1\n",
       "sentiment           0\n",
       "Time of Tweet       0\n",
       "Age of User         0\n",
       "Country             0\n",
       "Population -2020    0\n",
       "Land Area (Km²)     0\n",
       "Density (P/Km²)     0\n",
       "dtype: int64"
      ]
     },
     "execution_count": 7,
     "metadata": {},
     "output_type": "execute_result"
    }
   ],
   "source": [
    "df.isna().sum()"
   ]
  },
  {
   "cell_type": "code",
   "execution_count": 8,
   "id": "f7dbc2bd",
   "metadata": {},
   "outputs": [
    {
     "data": {
      "text/plain": [
       "textID              0\n",
       "text                0\n",
       "selected_text       0\n",
       "sentiment           0\n",
       "Time of Tweet       0\n",
       "Age of User         0\n",
       "Country             0\n",
       "Population -2020    0\n",
       "Land Area (Km²)     0\n",
       "Density (P/Km²)     0\n",
       "dtype: int64"
      ]
     },
     "execution_count": 8,
     "metadata": {},
     "output_type": "execute_result"
    }
   ],
   "source": [
    "df.dropna(inplace=True)\n",
    "df.isna().sum()"
   ]
  },
  {
   "cell_type": "code",
   "execution_count": 9,
   "id": "b4111c7e",
   "metadata": {},
   "outputs": [
    {
     "data": {
      "text/plain": [
       "(27480, 10)"
      ]
     },
     "execution_count": 9,
     "metadata": {},
     "output_type": "execute_result"
    }
   ],
   "source": [
    "df.shape"
   ]
  },
  {
   "cell_type": "code",
   "execution_count": 10,
   "id": "a8ae7033",
   "metadata": {},
   "outputs": [
    {
     "data": {
      "text/plain": [
       "Index(['textID', 'text', 'selected_text', 'sentiment', 'Time of Tweet',\n",
       "       'Age of User', 'Country', 'Population -2020', 'Land Area (Km²)',\n",
       "       'Density (P/Km²)'],\n",
       "      dtype='object')"
      ]
     },
     "execution_count": 10,
     "metadata": {},
     "output_type": "execute_result"
    }
   ],
   "source": [
    "df.columns"
   ]
  },
  {
   "cell_type": "markdown",
   "id": "41d18626",
   "metadata": {},
   "source": [
    "There are spaces in column names, we can replace them by underscores."
   ]
  },
  {
   "cell_type": "code",
   "execution_count": 11,
   "id": "69aaa2fe",
   "metadata": {},
   "outputs": [],
   "source": [
    "df.columns = df.columns.str.replace(' ', '_')"
   ]
  },
  {
   "cell_type": "code",
   "execution_count": 12,
   "id": "d1b0d1ec",
   "metadata": {},
   "outputs": [
    {
     "data": {
      "text/plain": [
       "Index(['textID', 'text', 'selected_text', 'sentiment', 'Time_of_Tweet',\n",
       "       'Age_of_User', 'Country', 'Population_-2020', 'Land_Area_(Km²)',\n",
       "       'Density_(P/Km²)'],\n",
       "      dtype='object')"
      ]
     },
     "execution_count": 12,
     "metadata": {},
     "output_type": "execute_result"
    }
   ],
   "source": [
    "df.columns"
   ]
  },
  {
   "cell_type": "code",
   "execution_count": 13,
   "id": "b4f2125d",
   "metadata": {},
   "outputs": [
    {
     "data": {
      "text/html": [
       "<div>\n",
       "<style scoped>\n",
       "    .dataframe tbody tr th:only-of-type {\n",
       "        vertical-align: middle;\n",
       "    }\n",
       "\n",
       "    .dataframe tbody tr th {\n",
       "        vertical-align: top;\n",
       "    }\n",
       "\n",
       "    .dataframe thead th {\n",
       "        text-align: right;\n",
       "    }\n",
       "</style>\n",
       "<table border=\"1\" class=\"dataframe\">\n",
       "  <thead>\n",
       "    <tr style=\"text-align: right;\">\n",
       "      <th></th>\n",
       "      <th>textID</th>\n",
       "      <th>text</th>\n",
       "      <th>selected_text</th>\n",
       "      <th>sentiment</th>\n",
       "      <th>Time_of_Tweet</th>\n",
       "      <th>Age_of_User</th>\n",
       "      <th>Country</th>\n",
       "      <th>Population_-2020</th>\n",
       "      <th>Land_Area_(Km²)</th>\n",
       "      <th>Density_(P/Km²)</th>\n",
       "    </tr>\n",
       "  </thead>\n",
       "  <tbody>\n",
       "    <tr>\n",
       "      <th>27476</th>\n",
       "      <td>4eac33d1c0</td>\n",
       "      <td>wish we could come see u on Denver  husband l...</td>\n",
       "      <td>d lost</td>\n",
       "      <td>negative</td>\n",
       "      <td>night</td>\n",
       "      <td>31-45</td>\n",
       "      <td>Ghana</td>\n",
       "      <td>31072940</td>\n",
       "      <td>227540.0</td>\n",
       "      <td>137</td>\n",
       "    </tr>\n",
       "    <tr>\n",
       "      <th>27477</th>\n",
       "      <td>4f4c4fc327</td>\n",
       "      <td>I`ve wondered about rake to.  The client has ...</td>\n",
       "      <td>, don`t force</td>\n",
       "      <td>negative</td>\n",
       "      <td>morning</td>\n",
       "      <td>46-60</td>\n",
       "      <td>Greece</td>\n",
       "      <td>10423054</td>\n",
       "      <td>128900.0</td>\n",
       "      <td>81</td>\n",
       "    </tr>\n",
       "    <tr>\n",
       "      <th>27478</th>\n",
       "      <td>f67aae2310</td>\n",
       "      <td>Yay good for both of you. Enjoy the break - y...</td>\n",
       "      <td>Yay good for both of you.</td>\n",
       "      <td>positive</td>\n",
       "      <td>noon</td>\n",
       "      <td>60-70</td>\n",
       "      <td>Grenada</td>\n",
       "      <td>112523</td>\n",
       "      <td>340.0</td>\n",
       "      <td>331</td>\n",
       "    </tr>\n",
       "    <tr>\n",
       "      <th>27479</th>\n",
       "      <td>ed167662a5</td>\n",
       "      <td>But it was worth it  ****.</td>\n",
       "      <td>But it was worth it  ****.</td>\n",
       "      <td>positive</td>\n",
       "      <td>night</td>\n",
       "      <td>70-100</td>\n",
       "      <td>Guatemala</td>\n",
       "      <td>17915568</td>\n",
       "      <td>107160.0</td>\n",
       "      <td>167</td>\n",
       "    </tr>\n",
       "    <tr>\n",
       "      <th>27480</th>\n",
       "      <td>6f7127d9d7</td>\n",
       "      <td>All this flirting going on - The ATG smiles...</td>\n",
       "      <td>All this flirting going on - The ATG smiles. Y...</td>\n",
       "      <td>neutral</td>\n",
       "      <td>morning</td>\n",
       "      <td>0-20</td>\n",
       "      <td>Guinea</td>\n",
       "      <td>13132795</td>\n",
       "      <td>246000.0</td>\n",
       "      <td>53</td>\n",
       "    </tr>\n",
       "  </tbody>\n",
       "</table>\n",
       "</div>"
      ],
      "text/plain": [
       "           textID                                               text   \n",
       "27476  4eac33d1c0   wish we could come see u on Denver  husband l...  \\\n",
       "27477  4f4c4fc327   I`ve wondered about rake to.  The client has ...   \n",
       "27478  f67aae2310   Yay good for both of you. Enjoy the break - y...   \n",
       "27479  ed167662a5                         But it was worth it  ****.   \n",
       "27480  6f7127d9d7     All this flirting going on - The ATG smiles...   \n",
       "\n",
       "                                           selected_text sentiment   \n",
       "27476                                             d lost  negative  \\\n",
       "27477                                      , don`t force  negative   \n",
       "27478                          Yay good for both of you.  positive   \n",
       "27479                         But it was worth it  ****.  positive   \n",
       "27480  All this flirting going on - The ATG smiles. Y...   neutral   \n",
       "\n",
       "      Time_of_Tweet Age_of_User    Country  Population_-2020  Land_Area_(Km²)   \n",
       "27476         night       31-45      Ghana          31072940         227540.0  \\\n",
       "27477       morning       46-60     Greece          10423054         128900.0   \n",
       "27478          noon       60-70    Grenada            112523            340.0   \n",
       "27479         night      70-100  Guatemala          17915568         107160.0   \n",
       "27480       morning        0-20     Guinea          13132795         246000.0   \n",
       "\n",
       "       Density_(P/Km²)  \n",
       "27476              137  \n",
       "27477               81  \n",
       "27478              331  \n",
       "27479              167  \n",
       "27480               53  "
      ]
     },
     "execution_count": 13,
     "metadata": {},
     "output_type": "execute_result"
    }
   ],
   "source": [
    "df.tail()"
   ]
  },
  {
   "cell_type": "markdown",
   "id": "2798d90a-711a-4b7c-a73d-0d867b530958",
   "metadata": {},
   "source": [
    "<h1>Exploratory Data Analysis</h1>"
   ]
  },
  {
   "cell_type": "markdown",
   "id": "2fab2d19-cf34-48e1-af31-98bf8c1045a4",
   "metadata": {},
   "source": [
    "<font size=\"4\" color=\"blue\" face=\"verdana\"><b>1. Count of Sentiment Labels </b></font>"
   ]
  },
  {
   "cell_type": "code",
   "execution_count": 14,
   "id": "5eaaa4e4",
   "metadata": {},
   "outputs": [
    {
     "name": "stdout",
     "output_type": "stream",
     "text": [
      "sentiment\n",
      "neutral     11117\n",
      "positive     8582\n",
      "negative     7781\n",
      "Name: count, dtype: int64\n"
     ]
    },
    {
     "data": {
      "image/png": "[encoded data removed]",
      "text/plain": [
       "<Figure size 800x600 with 1 Axes>"
      ]
     },
     "metadata": {},
     "output_type": "display_data"
    }
   ],
   "source": [
    "value_counts = df['sentiment'].value_counts()\n",
    "print(value_counts)\n",
    "\n",
    "# visualizing Count of Sentiment Labels using countplot\n",
    "plt.figure(figsize=(8, 6))\n",
    "ax = sns.countplot(data=df, x='sentiment')\n",
    "plt.title('Count of Sentiment Labels')\n",
    "plt.xlabel('Sentiment')\n",
    "plt.ylabel('Count')\n",
    "\n",
    "for p in ax.patches:\n",
    "    ax.annotate(format(p.get_height(), '.0f'), \n",
    "                (p.get_x() + p.get_width() / 2., p.get_height()), \n",
    "                ha = 'center', va = 'center', \n",
    "                xytext = (0, 6), \n",
    "                textcoords = 'offset points')    \n",
    "plt.show()"
   ]
  },
  {
   "cell_type": "markdown",
   "id": "bce05132",
   "metadata": {},
   "source": [
    "This code computes the count of each sentiment label in the DataFrame df and then visualizes it using a countplot.\n",
    "\n",
    "The loop iterates over each bar patch in the Axes object, annotating the height of each bar at its center with a specified format, horizontal and vertical alignment, and a vertical offset of 6 points."
   ]
  },
  {
   "cell_type": "code",
   "execution_count": 15,
   "id": "cc6a1108",
   "metadata": {},
   "outputs": [
    {
     "data": {
      "text/plain": [
       "array(['0-20', '21-30', '31-45', '46-60', '60-70', '70-100'], dtype=object)"
      ]
     },
     "execution_count": 15,
     "metadata": {},
     "output_type": "execute_result"
    }
   ],
   "source": [
    "df['Age_of_User'].unique()"
   ]
  },
  {
   "cell_type": "markdown",
   "id": "fabd24f0-1257-46d4-9f02-14dac3f6e367",
   "metadata": {},
   "source": [
    "<font size=\"4\" color=\"blue\" face=\"verdana\"><b>2. Distribution of User Ages Across Sentiment Categories </b></font>"
   ]
  },
  {
   "cell_type": "code",
   "execution_count": 16,
   "id": "5ef45ee1",
   "metadata": {},
   "outputs": [
    {
     "data": {
      "image/png": "[encoded data removed]",
      "text/plain": [
       "<Figure size 640x480 with 1 Axes>"
      ]
     },
     "metadata": {},
     "output_type": "display_data"
    }
   ],
   "source": [
    "age_groups = df['Age_of_User'].unique()\n",
    "neutral_count = value_counts['neutral']\n",
    "positive_count = value_counts['positive']\n",
    "negative_count = value_counts['negative']\n",
    "\n",
    "bar_width = 0.25\n",
    "index = range(len(age_groups))\n",
    "\n",
    "plt.bar(index, [neutral_count] * len(age_groups), bar_width, label='Neutral')\n",
    "plt.bar([i + bar_width for i in index], [positive_count] * len(age_groups), bar_width, label='Positive')\n",
    "plt.bar([i + 2 * bar_width for i in index], [negative_count] * len(age_groups), bar_width, label='Negative')\n",
    "\n",
    "plt.xlabel('Age Groups')\n",
    "plt.ylabel('Number of Users')\n",
    "plt.title('Distribution of User Ages Across Sentiment Categories')\n",
    "plt.xticks([i + bar_width for i in index], age_groups)\n",
    "plt.legend()\n",
    "plt.tight_layout()\n",
    "plt.show()"
   ]
  },
  {
   "cell_type": "markdown",
   "id": "bb3f0c9d",
   "metadata": {},
   "source": [
    "This code visualizes the distribution of user ages across different sentiment categories using a grouped bar plot.\n",
    "\n",
    "The code extracts unique age groups and assigns counts for each sentiment category. "
   ]
  },
  {
   "cell_type": "markdown",
   "id": "6319b7e1-24f3-49e6-a181-c67d55887a28",
   "metadata": {},
   "source": [
    "<font size=\"4\" color=\"blue\" face=\"verdana\"><b>3. Distribution of Text Lengths </b></font>"
   ]
  },
  {
   "cell_type": "code",
   "execution_count": 17,
   "id": "8cbc80b1",
   "metadata": {},
   "outputs": [
    {
     "data": {
      "image/png": "[encoded data removed]",
      "text/plain": [
       "<Figure size 800x600 with 1 Axes>"
      ]
     },
     "metadata": {},
     "output_type": "display_data"
    }
   ],
   "source": [
    "text_lengths = [len(text) for text in df['text']]\n",
    "\n",
    "plt.figure(figsize=(8, 6))\n",
    "plt.hist(text_lengths, bins=30, color='skyblue', edgecolor='black')\n",
    "plt.xlabel('Text Length')\n",
    "plt.ylabel('Frequency')\n",
    "plt.title('Distribution of Text Lengths')\n",
    "plt.grid(True)\n",
    "plt.show()"
   ]
  },
  {
   "cell_type": "markdown",
   "id": "2a30165a-4de2-4261-b7ab-10415faa084c",
   "metadata": {},
   "source": [
    "<font size=\"4\" color=\"blue\" face=\"verdana\"><b>4. Distribution of Text Lengths </b></font>"
   ]
  },
  {
   "cell_type": "code",
   "execution_count": 18,
   "id": "69feb494",
   "metadata": {},
   "outputs": [
    {
     "name": "stdout",
     "output_type": "stream",
     "text": [
      "Most common words in selected text:\n",
      "[('i', 8997), ('to', 5303), ('the', 4594), ('a', 3541), ('you', 2870), ('it', 2836), ('my', 2793), ('and', 2356), ('is', 2117), ('s', 2002)]\n"
     ]
    }
   ],
   "source": [
    "from nltk.probability import FreqDist\n",
    "\n",
    "selected_text = \" \".join(df['selected_text'].astype(str))\n",
    "tokens = word_tokenize(selected_text)\n",
    "tokens = [word for word in tokens if word.isalnum()]\n",
    "tokens = [word.lower() for word in tokens]\n",
    "freq_dist = FreqDist(tokens)\n",
    "\n",
    "print(\"Most common words in selected text:\")\n",
    "print(freq_dist.most_common(10))"
   ]
  },
  {
   "cell_type": "markdown",
   "id": "f8a77dd4-9f87-4814-93b4-37489652828b",
   "metadata": {},
   "source": [
    "<h1>Feature Selection (training data)</h1>"
   ]
  },
  {
   "cell_type": "code",
   "execution_count": 19,
   "id": "585d95c0",
   "metadata": {},
   "outputs": [],
   "source": [
    "train_data = df[['text','sentiment']]"
   ]
  },
  {
   "cell_type": "code",
   "execution_count": 20,
   "id": "7a7df1ac",
   "metadata": {},
   "outputs": [
    {
     "data": {
      "text/html": [
       "<div>\n",
       "<style scoped>\n",
       "    .dataframe tbody tr th:only-of-type {\n",
       "        vertical-align: middle;\n",
       "    }\n",
       "\n",
       "    .dataframe tbody tr th {\n",
       "        vertical-align: top;\n",
       "    }\n",
       "\n",
       "    .dataframe thead th {\n",
       "        text-align: right;\n",
       "    }\n",
       "</style>\n",
       "<table border=\"1\" class=\"dataframe\">\n",
       "  <thead>\n",
       "    <tr style=\"text-align: right;\">\n",
       "      <th></th>\n",
       "      <th>text</th>\n",
       "      <th>sentiment</th>\n",
       "    </tr>\n",
       "  </thead>\n",
       "  <tbody>\n",
       "    <tr>\n",
       "      <th>0</th>\n",
       "      <td>I`d have responded, if I were going</td>\n",
       "      <td>neutral</td>\n",
       "    </tr>\n",
       "    <tr>\n",
       "      <th>1</th>\n",
       "      <td>Sooo SAD I will miss you here in San Diego!!!</td>\n",
       "      <td>negative</td>\n",
       "    </tr>\n",
       "    <tr>\n",
       "      <th>2</th>\n",
       "      <td>my boss is bullying me...</td>\n",
       "      <td>negative</td>\n",
       "    </tr>\n",
       "    <tr>\n",
       "      <th>3</th>\n",
       "      <td>what interview! leave me alone</td>\n",
       "      <td>negative</td>\n",
       "    </tr>\n",
       "    <tr>\n",
       "      <th>4</th>\n",
       "      <td>Sons of ****, why couldn`t they put them on t...</td>\n",
       "      <td>negative</td>\n",
       "    </tr>\n",
       "  </tbody>\n",
       "</table>\n",
       "</div>"
      ],
      "text/plain": [
       "                                                text sentiment\n",
       "0                I`d have responded, if I were going   neutral\n",
       "1      Sooo SAD I will miss you here in San Diego!!!  negative\n",
       "2                          my boss is bullying me...  negative\n",
       "3                     what interview! leave me alone  negative\n",
       "4   Sons of ****, why couldn`t they put them on t...  negative"
      ]
     },
     "execution_count": 20,
     "metadata": {},
     "output_type": "execute_result"
    }
   ],
   "source": [
    "train_data.head()"
   ]
  },
  {
   "cell_type": "markdown",
   "id": "f57551ef",
   "metadata": {},
   "source": [
    "# Data Preprocessing"
   ]
  },
  {
   "cell_type": "code",
   "execution_count": 21,
   "id": "727ec4f0",
   "metadata": {},
   "outputs": [],
   "source": [
    "lemmatizer = WordNetLemmatizer()\n",
    "stop_words = set(stopwords.words('english'))"
   ]
  },
  {
   "cell_type": "code",
   "execution_count": 22,
   "id": "c86b9592",
   "metadata": {
    "scrolled": true
   },
   "outputs": [
    {
     "name": "stdout",
     "output_type": "stream",
     "text": [
      "Number of unique words: 34697\n",
      "Total number of words: 438409\n"
     ]
    }
   ],
   "source": [
    "def find_num_words(data):\n",
    "    wordList = []\n",
    "    for text in data:\n",
    "        tokens = word_tokenize(text)\n",
    "        wordList.extend(tokens)\n",
    "            \n",
    "    wordset = set(wordList)\n",
    "    print(\"Number of unique words:\", len(wordset))\n",
    "    print(\"Total number of words:\", len(wordList))\n",
    "    \n",
    "find_num_words(train_data.text)"
   ]
  },
  {
   "cell_type": "code",
   "execution_count": 23,
   "id": "482eb0c6",
   "metadata": {},
   "outputs": [],
   "source": [
    "def cleaning(text):\n",
    "    text = re.sub(r'\\[[^]]*\\]', '', text)\n",
    "    text = re.sub(r'http\\S+', '', text)    \n",
    "    text = re.sub(\"[^a-zA-Z]\", \" \", text)\n",
    "    \n",
    "    text = ''.join([char for char in text if char not in string.punctuation])\n",
    "    \n",
    "    tokens = word_tokenize(text.lower())\n",
    "    \n",
    "    \n",
    "    tokens = [word for word in tokens if word not in stop_words]\n",
    "    \n",
    "    lemma = WordNetLemmatizer()\n",
    "    final_tokens = [lemma.lemmatize(word) for word in tokens]\n",
    "    \n",
    "    cleaned_text = ' '.join(final_tokens)\n",
    "    \n",
    "    return cleaned_text\n",
    "\n",
    "train_data['cleaned_text'] = train_data['text'].apply(cleaning)"
   ]
  },
  {
   "cell_type": "code",
   "execution_count": 24,
   "id": "7c3b878d",
   "metadata": {},
   "outputs": [
    {
     "data": {
      "text/html": [
       "<div>\n",
       "<style scoped>\n",
       "    .dataframe tbody tr th:only-of-type {\n",
       "        vertical-align: middle;\n",
       "    }\n",
       "\n",
       "    .dataframe tbody tr th {\n",
       "        vertical-align: top;\n",
       "    }\n",
       "\n",
       "    .dataframe thead th {\n",
       "        text-align: right;\n",
       "    }\n",
       "</style>\n",
       "<table border=\"1\" class=\"dataframe\">\n",
       "  <thead>\n",
       "    <tr style=\"text-align: right;\">\n",
       "      <th></th>\n",
       "      <th>text</th>\n",
       "      <th>sentiment</th>\n",
       "      <th>cleaned_text</th>\n",
       "    </tr>\n",
       "  </thead>\n",
       "  <tbody>\n",
       "    <tr>\n",
       "      <th>0</th>\n",
       "      <td>I`d have responded, if I were going</td>\n",
       "      <td>neutral</td>\n",
       "      <td>responded going</td>\n",
       "    </tr>\n",
       "    <tr>\n",
       "      <th>1</th>\n",
       "      <td>Sooo SAD I will miss you here in San Diego!!!</td>\n",
       "      <td>negative</td>\n",
       "      <td>sooo sad miss san diego</td>\n",
       "    </tr>\n",
       "    <tr>\n",
       "      <th>2</th>\n",
       "      <td>my boss is bullying me...</td>\n",
       "      <td>negative</td>\n",
       "      <td>bos bullying</td>\n",
       "    </tr>\n",
       "    <tr>\n",
       "      <th>3</th>\n",
       "      <td>what interview! leave me alone</td>\n",
       "      <td>negative</td>\n",
       "      <td>interview leave alone</td>\n",
       "    </tr>\n",
       "    <tr>\n",
       "      <th>4</th>\n",
       "      <td>Sons of ****, why couldn`t they put them on t...</td>\n",
       "      <td>negative</td>\n",
       "      <td>son put release already bought</td>\n",
       "    </tr>\n",
       "  </tbody>\n",
       "</table>\n",
       "</div>"
      ],
      "text/plain": [
       "                                                text sentiment   \n",
       "0                I`d have responded, if I were going   neutral  \\\n",
       "1      Sooo SAD I will miss you here in San Diego!!!  negative   \n",
       "2                          my boss is bullying me...  negative   \n",
       "3                     what interview! leave me alone  negative   \n",
       "4   Sons of ****, why couldn`t they put them on t...  negative   \n",
       "\n",
       "                     cleaned_text  \n",
       "0                 responded going  \n",
       "1         sooo sad miss san diego  \n",
       "2                    bos bullying  \n",
       "3           interview leave alone  \n",
       "4  son put release already bought  "
      ]
     },
     "execution_count": 24,
     "metadata": {},
     "output_type": "execute_result"
    }
   ],
   "source": [
    "train_data.head()"
   ]
  },
  {
   "cell_type": "markdown",
   "id": "b6272cc6-cca5-43ad-84d8-ef1b18642f34",
   "metadata": {},
   "source": [
    "<h1>Feature Selection and Cleaning (testing data)</h1>"
   ]
  },
  {
   "cell_type": "code",
   "execution_count": 25,
   "id": "aee4a414",
   "metadata": {},
   "outputs": [],
   "source": [
    "test_data = pd.read_csv('test.csv', encoding='ISO-8859-1')[['text', 'sentiment']]"
   ]
  },
  {
   "cell_type": "code",
   "execution_count": 26,
   "id": "5a501df2",
   "metadata": {},
   "outputs": [
    {
     "data": {
      "text/html": [
       "<div>\n",
       "<style scoped>\n",
       "    .dataframe tbody tr th:only-of-type {\n",
       "        vertical-align: middle;\n",
       "    }\n",
       "\n",
       "    .dataframe tbody tr th {\n",
       "        vertical-align: top;\n",
       "    }\n",
       "\n",
       "    .dataframe thead th {\n",
       "        text-align: right;\n",
       "    }\n",
       "</style>\n",
       "<table border=\"1\" class=\"dataframe\">\n",
       "  <thead>\n",
       "    <tr style=\"text-align: right;\">\n",
       "      <th></th>\n",
       "      <th>text</th>\n",
       "      <th>sentiment</th>\n",
       "    </tr>\n",
       "  </thead>\n",
       "  <tbody>\n",
       "    <tr>\n",
       "      <th>0</th>\n",
       "      <td>Last session of the day  http://twitpic.com/67ezh</td>\n",
       "      <td>neutral</td>\n",
       "    </tr>\n",
       "    <tr>\n",
       "      <th>1</th>\n",
       "      <td>Shanghai is also really exciting (precisely -...</td>\n",
       "      <td>positive</td>\n",
       "    </tr>\n",
       "    <tr>\n",
       "      <th>2</th>\n",
       "      <td>Recession hit Veronique Branquinho, she has to...</td>\n",
       "      <td>negative</td>\n",
       "    </tr>\n",
       "    <tr>\n",
       "      <th>3</th>\n",
       "      <td>happy bday!</td>\n",
       "      <td>positive</td>\n",
       "    </tr>\n",
       "    <tr>\n",
       "      <th>4</th>\n",
       "      <td>http://twitpic.com/4w75p - I like it!!</td>\n",
       "      <td>positive</td>\n",
       "    </tr>\n",
       "  </tbody>\n",
       "</table>\n",
       "</div>"
      ],
      "text/plain": [
       "                                                text sentiment\n",
       "0  Last session of the day  http://twitpic.com/67ezh   neutral\n",
       "1   Shanghai is also really exciting (precisely -...  positive\n",
       "2  Recession hit Veronique Branquinho, she has to...  negative\n",
       "3                                        happy bday!  positive\n",
       "4             http://twitpic.com/4w75p - I like it!!  positive"
      ]
     },
     "execution_count": 26,
     "metadata": {},
     "output_type": "execute_result"
    }
   ],
   "source": [
    "test_data.head()"
   ]
  },
  {
   "cell_type": "code",
   "execution_count": 27,
   "id": "4d6ed8bc",
   "metadata": {},
   "outputs": [
    {
     "data": {
      "text/html": [
       "<div>\n",
       "<style scoped>\n",
       "    .dataframe tbody tr th:only-of-type {\n",
       "        vertical-align: middle;\n",
       "    }\n",
       "\n",
       "    .dataframe tbody tr th {\n",
       "        vertical-align: top;\n",
       "    }\n",
       "\n",
       "    .dataframe thead th {\n",
       "        text-align: right;\n",
       "    }\n",
       "</style>\n",
       "<table border=\"1\" class=\"dataframe\">\n",
       "  <thead>\n",
       "    <tr style=\"text-align: right;\">\n",
       "      <th></th>\n",
       "      <th>text</th>\n",
       "      <th>sentiment</th>\n",
       "    </tr>\n",
       "  </thead>\n",
       "  <tbody>\n",
       "    <tr>\n",
       "      <th>0</th>\n",
       "      <td>Last session of the day  http://twitpic.com/67ezh</td>\n",
       "      <td>neutral</td>\n",
       "    </tr>\n",
       "    <tr>\n",
       "      <th>1</th>\n",
       "      <td>Shanghai is also really exciting (precisely -...</td>\n",
       "      <td>positive</td>\n",
       "    </tr>\n",
       "    <tr>\n",
       "      <th>2</th>\n",
       "      <td>Recession hit Veronique Branquinho, she has to...</td>\n",
       "      <td>negative</td>\n",
       "    </tr>\n",
       "    <tr>\n",
       "      <th>3</th>\n",
       "      <td>happy bday!</td>\n",
       "      <td>positive</td>\n",
       "    </tr>\n",
       "    <tr>\n",
       "      <th>4</th>\n",
       "      <td>http://twitpic.com/4w75p - I like it!!</td>\n",
       "      <td>positive</td>\n",
       "    </tr>\n",
       "    <tr>\n",
       "      <th>...</th>\n",
       "      <td>...</td>\n",
       "      <td>...</td>\n",
       "    </tr>\n",
       "    <tr>\n",
       "      <th>3529</th>\n",
       "      <td>its at 3 am, im very tired but i can`t sleep  ...</td>\n",
       "      <td>negative</td>\n",
       "    </tr>\n",
       "    <tr>\n",
       "      <th>3530</th>\n",
       "      <td>All alone in this old house again.  Thanks for...</td>\n",
       "      <td>positive</td>\n",
       "    </tr>\n",
       "    <tr>\n",
       "      <th>3531</th>\n",
       "      <td>I know what you mean. My little dog is sinkin...</td>\n",
       "      <td>negative</td>\n",
       "    </tr>\n",
       "    <tr>\n",
       "      <th>3532</th>\n",
       "      <td>_sutra what is your next youtube video gonna b...</td>\n",
       "      <td>positive</td>\n",
       "    </tr>\n",
       "    <tr>\n",
       "      <th>3533</th>\n",
       "      <td>http://twitpic.com/4woj2 - omgssh  ang cute n...</td>\n",
       "      <td>positive</td>\n",
       "    </tr>\n",
       "  </tbody>\n",
       "</table>\n",
       "<p>3534 rows × 2 columns</p>\n",
       "</div>"
      ],
      "text/plain": [
       "                                                   text sentiment\n",
       "0     Last session of the day  http://twitpic.com/67ezh   neutral\n",
       "1      Shanghai is also really exciting (precisely -...  positive\n",
       "2     Recession hit Veronique Branquinho, she has to...  negative\n",
       "3                                           happy bday!  positive\n",
       "4                http://twitpic.com/4w75p - I like it!!  positive\n",
       "...                                                 ...       ...\n",
       "3529  its at 3 am, im very tired but i can`t sleep  ...  negative\n",
       "3530  All alone in this old house again.  Thanks for...  positive\n",
       "3531   I know what you mean. My little dog is sinkin...  negative\n",
       "3532  _sutra what is your next youtube video gonna b...  positive\n",
       "3533   http://twitpic.com/4woj2 - omgssh  ang cute n...  positive\n",
       "\n",
       "[3534 rows x 2 columns]"
      ]
     },
     "execution_count": 27,
     "metadata": {},
     "output_type": "execute_result"
    }
   ],
   "source": [
    "test_data = test_data[~(test_data['text'].isna() & test_data['sentiment'].isna())]\n",
    "test_data"
   ]
  },
  {
   "cell_type": "code",
   "execution_count": 28,
   "id": "7d60384e",
   "metadata": {},
   "outputs": [
    {
     "name": "stdout",
     "output_type": "stream",
     "text": [
      " http://twitpic.com/4w75p - I like it!!\n"
     ]
    },
    {
     "data": {
      "text/plain": [
       "'like'"
      ]
     },
     "execution_count": 28,
     "metadata": {},
     "output_type": "execute_result"
    }
   ],
   "source": [
    "test_data['cleaned_text'] = test_data['text'].apply(cleaning)\n",
    "print(test_data['text'][4])\n",
    "test_data['cleaned_text'][4]"
   ]
  },
  {
   "cell_type": "markdown",
   "id": "9bc1a411-edb6-4c68-bbea-8fdfbcee4757",
   "metadata": {},
   "source": [
    "<h4>Encoding Labels</h4>"
   ]
  },
  {
   "cell_type": "code",
   "execution_count": 29,
   "id": "c9e4f63c",
   "metadata": {},
   "outputs": [],
   "source": [
    "train_data['sentiment_encoded'] = train_data['sentiment'].map({'positive': 1, 'negative': -1, 'neutral': 0})\n",
    "test_data['sentiment_encoded'] = test_data['sentiment'].map({'positive': 1, 'negative': -1, 'neutral': 0})"
   ]
  },
  {
   "cell_type": "code",
   "execution_count": 30,
   "id": "3996842c-4cbd-4cee-b87f-bf7d99a8a87d",
   "metadata": {},
   "outputs": [
    {
     "data": {
      "text/html": [
       "<div>\n",
       "<style scoped>\n",
       "    .dataframe tbody tr th:only-of-type {\n",
       "        vertical-align: middle;\n",
       "    }\n",
       "\n",
       "    .dataframe tbody tr th {\n",
       "        vertical-align: top;\n",
       "    }\n",
       "\n",
       "    .dataframe thead th {\n",
       "        text-align: right;\n",
       "    }\n",
       "</style>\n",
       "<table border=\"1\" class=\"dataframe\">\n",
       "  <thead>\n",
       "    <tr style=\"text-align: right;\">\n",
       "      <th></th>\n",
       "      <th>text</th>\n",
       "      <th>sentiment</th>\n",
       "      <th>cleaned_text</th>\n",
       "      <th>sentiment_encoded</th>\n",
       "    </tr>\n",
       "  </thead>\n",
       "  <tbody>\n",
       "    <tr>\n",
       "      <th>0</th>\n",
       "      <td>I`d have responded, if I were going</td>\n",
       "      <td>neutral</td>\n",
       "      <td>responded going</td>\n",
       "      <td>0</td>\n",
       "    </tr>\n",
       "    <tr>\n",
       "      <th>1</th>\n",
       "      <td>Sooo SAD I will miss you here in San Diego!!!</td>\n",
       "      <td>negative</td>\n",
       "      <td>sooo sad miss san diego</td>\n",
       "      <td>-1</td>\n",
       "    </tr>\n",
       "    <tr>\n",
       "      <th>2</th>\n",
       "      <td>my boss is bullying me...</td>\n",
       "      <td>negative</td>\n",
       "      <td>bos bullying</td>\n",
       "      <td>-1</td>\n",
       "    </tr>\n",
       "    <tr>\n",
       "      <th>3</th>\n",
       "      <td>what interview! leave me alone</td>\n",
       "      <td>negative</td>\n",
       "      <td>interview leave alone</td>\n",
       "      <td>-1</td>\n",
       "    </tr>\n",
       "    <tr>\n",
       "      <th>4</th>\n",
       "      <td>Sons of ****, why couldn`t they put them on t...</td>\n",
       "      <td>negative</td>\n",
       "      <td>son put release already bought</td>\n",
       "      <td>-1</td>\n",
       "    </tr>\n",
       "  </tbody>\n",
       "</table>\n",
       "</div>"
      ],
      "text/plain": [
       "                                                text sentiment   \n",
       "0                I`d have responded, if I were going   neutral  \\\n",
       "1      Sooo SAD I will miss you here in San Diego!!!  negative   \n",
       "2                          my boss is bullying me...  negative   \n",
       "3                     what interview! leave me alone  negative   \n",
       "4   Sons of ****, why couldn`t they put them on t...  negative   \n",
       "\n",
       "                     cleaned_text  sentiment_encoded  \n",
       "0                 responded going                  0  \n",
       "1         sooo sad miss san diego                 -1  \n",
       "2                    bos bullying                 -1  \n",
       "3           interview leave alone                 -1  \n",
       "4  son put release already bought                 -1  "
      ]
     },
     "execution_count": 30,
     "metadata": {},
     "output_type": "execute_result"
    }
   ],
   "source": [
    "train_data.head()"
   ]
  },
  {
   "cell_type": "markdown",
   "id": "cc096afe",
   "metadata": {},
   "source": [
    "# Model"
   ]
  },
  {
   "cell_type": "markdown",
   "id": "9714e0ca-b3c0-4c4d-8c6f-748ee2b60af0",
   "metadata": {},
   "source": [
    "<h3>TFIDF Text Vectorization</h3>"
   ]
  },
  {
   "cell_type": "code",
   "execution_count": 31,
   "id": "538a5bba",
   "metadata": {},
   "outputs": [],
   "source": [
    "from sklearn.feature_extraction.text import TfidfVectorizer\n",
    "\n",
    "vectorizer = TfidfVectorizer(max_features=1000) \n",
    "X_train = vectorizer.fit_transform(train_data['cleaned_text'])\n",
    "X_test = vectorizer.transform(test_data['cleaned_text'])"
   ]
  },
  {
   "cell_type": "code",
   "execution_count": 32,
   "id": "f8eeb9da",
   "metadata": {},
   "outputs": [],
   "source": [
    "Y_train = train_data['sentiment_encoded']\n",
    "Y_test = test_data['sentiment_encoded']"
   ]
  },
  {
   "cell_type": "markdown",
   "id": "debab78b-6f17-47c1-8d34-b268316294da",
   "metadata": {},
   "source": [
    "<h3>Naive Bayes</h3>"
   ]
  },
  {
   "cell_type": "code",
   "execution_count": 33,
   "id": "e424cd8d",
   "metadata": {},
   "outputs": [
    {
     "name": "stdout",
     "output_type": "stream",
     "text": [
      "Accuracy: 0.6638370118845501\n"
     ]
    }
   ],
   "source": [
    "from sklearn.naive_bayes import MultinomialNB\n",
    "from sklearn.metrics import accuracy_score\n",
    "\n",
    "nb_classifier = MultinomialNB()\n",
    "nb_classifier.fit(X_train, Y_train)\n",
    "\n",
    "predictions = nb_classifier.predict(X_test)\n",
    "\n",
    "accuracy = accuracy_score(Y_test, predictions)\n",
    "print(\"Accuracy:\", accuracy)"
   ]
  },
  {
   "cell_type": "markdown",
   "id": "00f2c3f8-28e1-48dd-bdb9-7f243dc1e60f",
   "metadata": {},
   "source": [
    "<h2>Prediction on custom data</h2>"
   ]
  },
  {
   "cell_type": "code",
   "execution_count": 34,
   "id": "27a3e36c-94c1-4051-9a67-5618c4b81365",
   "metadata": {},
   "outputs": [
    {
     "name": "stdout",
     "output_type": "stream",
     "text": [
      "[-1]\n",
      "Predicted Sentiment: Negative\n"
     ]
    }
   ],
   "source": [
    "def predict_sentiment(input_text, vectorizer, classifier):\n",
    "    input_vector = vectorizer.transform([input_text])\n",
    "    predicted_sentiment = nb_classifier.predict(input_vector)\n",
    "    print(predicted_sentiment)\n",
    "    if predicted_sentiment[0] == -1:\n",
    "        return 'Negative'\n",
    "    elif predicted_sentiment[0] == 0:\n",
    "        return 'Neutral'\n",
    "    else:\n",
    "        return 'Positive'\n",
    "        \n",
    "input_text = \"The traffic congestion on the highway caused significant delays for commuters during rush hour.\"\n",
    "predicted_sentiment = predict_sentiment(input_text, vectorizer, nb_classifier)\n",
    "print(\"Predicted Sentiment:\", predicted_sentiment)"
   ]
  },
  {
   "cell_type": "markdown",
   "id": "84d9fc5e-0e58-4261-a74e-57e1093a7d6b",
   "metadata": {},
   "source": [
    "<h3>Support Vector Machine (SVM)</h3>"
   ]
  },
  {
   "cell_type": "code",
   "execution_count": 35,
   "id": "cef3d0ac-6281-434d-8403-4cb765f415ca",
   "metadata": {},
   "outputs": [
    {
     "name": "stdout",
     "output_type": "stream",
     "text": [
      "SVM Classification Report:\n",
      "              precision    recall  f1-score   support\n",
      "\n",
      "          -1       0.74      0.60      0.66      1001\n",
      "           0       0.64      0.77      0.70      1430\n",
      "           1       0.79      0.73      0.76      1103\n",
      "\n",
      "    accuracy                           0.71      3534\n",
      "   macro avg       0.73      0.70      0.71      3534\n",
      "weighted avg       0.72      0.71      0.71      3534\n",
      "\n"
     ]
    }
   ],
   "source": [
    "from sklearn.svm import SVC\n",
    "from sklearn.metrics import classification_report\n",
    "\n",
    "svm_classifier = SVC(kernel='linear', C=1.0)\n",
    "svm_classifier.fit(X_train, Y_train)\n",
    "\n",
    "prediction_svm = svm_classifier.predict(X_test)\n",
    "     \n",
    "report = classification_report(Y_test, prediction_svm)\n",
    "print(\"SVM Classification Report:\")\n",
    "print(report)"
   ]
  },
  {
   "cell_type": "markdown",
   "id": "a5e9e399-4073-4e07-86b6-f686f7d1f8f4",
   "metadata": {},
   "source": [
    "<h2>Prediction on custom data</h2>"
   ]
  },
  {
   "cell_type": "code",
   "execution_count": 36,
   "id": "c84328f3-c825-4686-a91e-3587bbcb39b7",
   "metadata": {},
   "outputs": [
    {
     "name": "stdout",
     "output_type": "stream",
     "text": [
      "[-1]\n",
      "Predicted Sentiment: Negative\n"
     ]
    }
   ],
   "source": [
    "def predict_sentiment(input_text, vectorizer, classifier):\n",
    "    input_vector = vectorizer.transform([input_text])\n",
    "    predicted_sentiment = svm_classifier.predict(input_vector)\n",
    "    print(predicted_sentiment)\n",
    "    if predicted_sentiment[0] == -1:\n",
    "        return 'Negative'\n",
    "    elif predicted_sentiment[0] == 0:\n",
    "        return 'Neutral'\n",
    "    else:\n",
    "        return 'Positive'\n",
    "        \n",
    "input_text = \"Unfortunately, the product I ordered online arrived damaged, and the customer service response was unhelpful.\"\n",
    "predicted_sentiment = predict_sentiment(input_text, vectorizer, svm_classifier)\n",
    "print(\"Predicted Sentiment:\", predicted_sentiment)"
   ]
  },
  {
   "cell_type": "markdown",
   "id": "fcf0db47-bf53-40ac-95c7-905261673ea4",
   "metadata": {},
   "source": [
    "<h3>LSTM</h3>"
   ]
  },
  {
   "cell_type": "code",
   "execution_count": 37,
   "id": "7fca642e-01da-4b1f-98d9-3bf6b6b0a0f1",
   "metadata": {},
   "outputs": [],
   "source": [
    "# pip install tensorflow"
   ]
  },
  {
   "cell_type": "code",
   "execution_count": 38,
   "id": "ed810780-7d46-4c83-8ae9-b17d642b6604",
   "metadata": {},
   "outputs": [],
   "source": [
    "import keras\n",
    "import tensorflow"
   ]
  },
  {
   "cell_type": "code",
   "execution_count": 39,
   "id": "0e56ca09-d69f-436a-9839-fb139e2c3200",
   "metadata": {},
   "outputs": [],
   "source": [
    "from sklearn.model_selection import train_test_split\n",
    "from tensorflow.keras.preprocessing.text import Tokenizer\n",
    "from tensorflow.keras.preprocessing.sequence import pad_sequences\n",
    "from tensorflow.keras.models import Sequential\n",
    "from tensorflow.keras.layers import Embedding, LSTM, BatchNormalization, Dense, Dropout\n",
    "from tensorflow.keras.optimizers import Adam\n",
    "from keras.regularizers import l2"
   ]
  },
  {
   "cell_type": "code",
   "execution_count": 40,
   "id": "f62d2e8f-59e7-44c7-9c99-a9f8435fea4a",
   "metadata": {},
   "outputs": [
    {
     "name": "stdout",
     "output_type": "stream",
     "text": [
      "[[9097   11    0 ...    0    0    0]\n",
      " [ 299   51   34 ...    0    0    0]\n",
      " [1178 9098    0 ...    0    0    0]\n",
      " ...\n",
      " [ 137    2  240 ...    0    0    0]\n",
      " [ 559    0    0 ...    0    0    0]\n",
      " [5622   11  556 ...    0    0    0]]\n"
     ]
    }
   ],
   "source": [
    "tokenizer = Tokenizer(num_words=10000)\n",
    "tokenizer.fit_on_texts(train_data['cleaned_text'])\n",
    "\n",
    "train_sequences = tokenizer.texts_to_sequences(train_data['cleaned_text'])\n",
    "max_length = max([len(seq) for seq in train_sequences])\n",
    "padded_train_sequences = pad_sequences(train_sequences, maxlen=max_length, padding='post')\n",
    "labels_train = pd.get_dummies(train_data['sentiment']).values\n",
    "\n",
    "test_sequences = tokenizer.texts_to_sequences(test_data['cleaned_text'])\n",
    "padded_test_sequences = pad_sequences(test_sequences, maxlen=max_length, padding='post')\n",
    "labels_test = pd.get_dummies(test_data['sentiment']).values\n",
    "print(padded_train_sequences)"
   ]
  },
  {
   "cell_type": "code",
   "execution_count": 41,
   "id": "a3b3c450-3cab-4b2d-a6df-9121f9978d1c",
   "metadata": {},
   "outputs": [
    {
     "name": "stdout",
     "output_type": "stream",
     "text": [
      "Epoch 1/8\n",
      "\u001b[1m387/387\u001b[0m \u001b[32m━━━━━━━━━━━━━━━━━━━━\u001b[0m\u001b[37m\u001b[0m \u001b[1m25s\u001b[0m 51ms/step - accuracy: 0.5479 - loss: 1.0230 - val_accuracy: 0.5004 - val_loss: 0.9960\n",
      "Epoch 2/8\n",
      "\u001b[1m387/387\u001b[0m \u001b[32m━━━━━━━━━━━━━━━━━━━━\u001b[0m\u001b[37m\u001b[0m \u001b[1m18s\u001b[0m 47ms/step - accuracy: 0.7566 - loss: 0.6494 - val_accuracy: 0.4210 - val_loss: 1.2193\n",
      "Epoch 3/8\n",
      "\u001b[1m387/387\u001b[0m \u001b[32m━━━━━━━━━━━━━━━━━━━━\u001b[0m\u001b[37m\u001b[0m \u001b[1m18s\u001b[0m 47ms/step - accuracy: 0.8100 - loss: 0.5265 - val_accuracy: 0.6972 - val_loss: 0.7585\n",
      "Epoch 4/8\n",
      "\u001b[1m387/387\u001b[0m \u001b[32m━━━━━━━━━━━━━━━━━━━━\u001b[0m\u001b[37m\u001b[0m \u001b[1m18s\u001b[0m 48ms/step - accuracy: 0.8474 - loss: 0.4340 - val_accuracy: 0.6827 - val_loss: 0.9000\n",
      "Epoch 5/8\n",
      "\u001b[1m387/387\u001b[0m \u001b[32m━━━━━━━━━━━━━━━━━━━━\u001b[0m\u001b[37m\u001b[0m \u001b[1m18s\u001b[0m 47ms/step - accuracy: 0.8695 - loss: 0.3811 - val_accuracy: 0.6128 - val_loss: 1.7942\n",
      "Epoch 6/8\n",
      "\u001b[1m387/387\u001b[0m \u001b[32m━━━━━━━━━━━━━━━━━━━━\u001b[0m\u001b[37m\u001b[0m \u001b[1m19s\u001b[0m 49ms/step - accuracy: 0.8879 - loss: 0.3298 - val_accuracy: 0.6448 - val_loss: 1.2873\n",
      "Epoch 7/8\n",
      "\u001b[1m387/387\u001b[0m \u001b[32m━━━━━━━━━━━━━━━━━━━━\u001b[0m\u001b[37m\u001b[0m \u001b[1m19s\u001b[0m 49ms/step - accuracy: 0.8959 - loss: 0.3087 - val_accuracy: 0.6303 - val_loss: 1.4679\n",
      "Epoch 8/8\n",
      "\u001b[1m387/387\u001b[0m \u001b[32m━━━━━━━━━━━━━━━━━━━━\u001b[0m\u001b[37m\u001b[0m \u001b[1m19s\u001b[0m 49ms/step - accuracy: 0.9036 - loss: 0.2818 - val_accuracy: 0.6463 - val_loss: 1.1897\n",
      "\u001b[1m111/111\u001b[0m \u001b[32m━━━━━━━━━━━━━━━━━━━━\u001b[0m\u001b[37m\u001b[0m \u001b[1m1s\u001b[0m 6ms/step - accuracy: 0.6693 - loss: 1.0857\n",
      "Test Accuracy: 0.6697793006896973\n",
      "Test Loss 1.0693694353103638\n"
     ]
    }
   ],
   "source": [
    "x_train, x_val, y_train, y_val = train_test_split(padded_train_sequences, labels_train, test_size=0.1, random_state=42)\n",
    "\n",
    "vocab_size = len(tokenizer.word_index) + 1\n",
    "embedding_dim = 128\n",
    "\n",
    "model2 = Sequential()\n",
    "model2.add(Embedding(vocab_size, embedding_dim))\n",
    "model2.add(LSTM(32, return_sequences=True, kernel_regularizer=l2(0.001)))\n",
    "model2.add(BatchNormalization())\n",
    "\n",
    "model2.add(LSTM(32, kernel_regularizer=l2(0.001)))\n",
    "model2.add(BatchNormalization())\n",
    "\n",
    "model2.add(Dense(64, activation='relu'))\n",
    "model2.add(Dropout(0.1))\n",
    "model2.add(Dense(3, activation='softmax'))\n",
    "\n",
    "model2.compile(loss='categorical_crossentropy', \n",
    "               optimizer=Adam(learning_rate=0.002), \n",
    "               metrics=['accuracy'])\n",
    "\n",
    "model2.fit(x_train, y_train, epochs=8, batch_size = 64, validation_data=(x_val, y_val))\n",
    "\n",
    "test_loss, test_accuracy = model2.evaluate(padded_test_sequences, labels_test)\n",
    "print(\"Test Accuracy:\", test_accuracy)\n",
    "print(\"Test Loss\", test_loss)"
   ]
  },
  {
   "cell_type": "markdown",
   "id": "fac4382a-361d-453d-9ac4-65b566d90812",
   "metadata": {},
   "source": [
    "<h2>Prediction on custom data</h2>"
   ]
  },
  {
   "cell_type": "code",
   "execution_count": 42,
   "id": "75087c06-c1ed-4c8e-baef-e58b77b8ccbe",
   "metadata": {},
   "outputs": [
    {
     "name": "stdout",
     "output_type": "stream",
     "text": [
      "\u001b[1m1/1\u001b[0m \u001b[32m━━━━━━━━━━━━━━━━━━━━\u001b[0m\u001b[37m\u001b[0m \u001b[1m0s\u001b[0m 450ms/step\n",
      "[[2.3454976e-04 7.6755410e-04 9.9899787e-01]]\n",
      "2\n",
      "Predicted Sentiment: Positive\n"
     ]
    }
   ],
   "source": [
    "def predict_sentiment(input_text, tokenizer, model, max_length):\n",
    "    input_sequence = tokenizer.texts_to_sequences([input_text])\n",
    "    padded_input_sequence = pad_sequences(input_sequence, maxlen=max_length, padding='post')\n",
    "    prediction = model.predict(padded_input_sequence)\n",
    "    print(prediction)\n",
    "    predicted_class = np.argmax(prediction, axis=1)[0]\n",
    "    print(predicted_class)\n",
    "    \n",
    "    if predicted_class == 0:\n",
    "        return 'Negative'\n",
    "    elif predicted_class == 1:\n",
    "        return 'Neutral'\n",
    "    else:\n",
    "        return 'Positive'\n",
    "\n",
    "input_text = \"The new restaurant in town serves delicious food with excellent service.\"\n",
    "predicted_sentiment = predict_sentiment(input_text, tokenizer, model2, max_length)\n",
    "print(\"Predicted Sentiment:\", predicted_sentiment)"
   ]
  },
  {
   "cell_type": "markdown",
   "id": "66631311-ee7b-4934-9506-5f5c08689593",
   "metadata": {},
   "source": [
    "<h1>GRU</h1>"
   ]
  },
  {
   "cell_type": "code",
   "execution_count": 43,
   "id": "a709030f-7ed4-40ea-9603-88a2204c8b9f",
   "metadata": {},
   "outputs": [],
   "source": [
    "import pandas as pd\n",
    "import tensorflow as tf\n",
    "from tensorflow.keras.preprocessing.text import Tokenizer\n",
    "from tensorflow.keras.preprocessing.sequence import pad_sequences\n",
    "from tensorflow.keras.models import Sequential\n",
    "from tensorflow.keras.layers import Embedding, GRU, Dense\n",
    "from tensorflow.keras.optimizers import Adam\n",
    "import matplotlib.pyplot as plt"
   ]
  },
  {
   "cell_type": "code",
   "execution_count": 44,
   "id": "e58c331c-44dd-4056-a7d0-e99b63414706",
   "metadata": {},
   "outputs": [],
   "source": [
    "tokenizer = Tokenizer(num_words=10000)\n",
    "tokenizer.fit_on_texts(train_data['cleaned_text'])\n",
    "train_sequences = tokenizer.texts_to_sequences(train_data['cleaned_text'])\n",
    "max_sequence_length = max(len(sequence) for sequence in train_sequences)"
   ]
  },
  {
   "cell_type": "code",
   "execution_count": 45,
   "id": "0902ed22-a66d-4f27-a032-fbeaca37b030",
   "metadata": {},
   "outputs": [],
   "source": [
    "X_train = pad_sequences(train_sequences, maxlen=max_sequence_length)\n",
    "y_train = pd.get_dummies(train_data['sentiment']).values\n",
    "\n",
    "sequences_test = tokenizer.texts_to_sequences(test_data['cleaned_text'])\n",
    "X_test = pad_sequences(sequences_test, maxlen=max_sequence_length)\n",
    "y_test = pd.get_dummies(test_data['sentiment']).values"
   ]
  },
  {
   "cell_type": "code",
   "execution_count": 46,
   "id": "57e2b726-ed3c-4425-ac72-d3329f0c860d",
   "metadata": {},
   "outputs": [],
   "source": [
    "model_GRU = Sequential()\n",
    "model_GRU.add(Embedding(input_dim=len(tokenizer.word_index) + 1, output_dim=128, input_length=max_sequence_length))\n",
    "model_GRU.add(GRU(units=64, return_sequences=True, kernel_regularizer=tf.keras.regularizers.l2(0.00015), dropout=0.5))\n",
    "model_GRU.add(GRU(units=32, kernel_regularizer=tf.keras.regularizers.l2(0.00015)))\n",
    "model_GRU.add(Dense(16, activation=\"relu\", kernel_regularizer=tf.keras.regularizers.l2(0.00015)))\n",
    "model_GRU.add(Dense(8, activation=\"relu\"))\n",
    "model_GRU.add(Dense(3, activation='softmax'))"
   ]
  },
  {
   "cell_type": "code",
   "execution_count": 47,
   "id": "c7a880b5-9496-4eac-aa07-0912a985f30d",
   "metadata": {},
   "outputs": [],
   "source": [
    "optimizer = Adam(learning_rate=0.001)  # Increased learning rate\n",
    "model_GRU.compile(optimizer=optimizer, loss='categorical_crossentropy', metrics=['accuracy'])"
   ]
  },
  {
   "cell_type": "code",
   "execution_count": null,
   "id": "ab400342-52d2-4d03-8cc5-beaf2e782dd8",
   "metadata": {},
   "outputs": [
    {
     "name": "stdout",
     "output_type": "stream",
     "text": [
      "Epoch 1/5\n",
      "\u001b[1m387/387\u001b[0m \u001b[32m━━━━━━━━━━━━━━━━━━━━\u001b[0m\u001b[37m\u001b[0m \u001b[1m26s\u001b[0m 53ms/step - accuracy: 0.5160 - loss: 0.9755 - val_accuracy: 0.7114 - val_loss: 0.7168\n",
      "Epoch 2/5\n",
      "\u001b[1m387/387\u001b[0m \u001b[32m━━━━━━━━━━━━━━━━━━━━\u001b[0m\u001b[37m\u001b[0m \u001b[1m21s\u001b[0m 55ms/step - accuracy: 0.7510 - loss: 0.6368 - val_accuracy: 0.7213 - val_loss: 0.6970\n",
      "Epoch 3/5\n",
      "\u001b[1m387/387\u001b[0m \u001b[32m━━━━━━━━━━━━━━━━━━━━\u001b[0m\u001b[37m\u001b[0m \u001b[1m21s\u001b[0m 53ms/step - accuracy: 0.7891 - loss: 0.5544 - val_accuracy: 0.7078 - val_loss: 0.7494\n",
      "Epoch 4/5\n",
      "\u001b[1m387/387\u001b[0m \u001b[32m━━━━━━━━━━━━━━━━━━━━\u001b[0m\u001b[37m\u001b[0m \u001b[1m21s\u001b[0m 53ms/step - accuracy: 0.8131 - loss: 0.5011 - val_accuracy: 0.7031 - val_loss: 0.7493\n",
      "Epoch 5/5\n",
      "\u001b[1m 22/387\u001b[0m \u001b[32m━\u001b[0m\u001b[37m━━━━━━━━━━━━━━━━━━━\u001b[0m \u001b[1m19s\u001b[0m 53ms/step - accuracy: 0.8558 - loss: 0.4108"
     ]
    }
   ],
   "source": [
    "history = model_GRU.fit(X_train, y_train, epochs=5, batch_size=64, validation_split=0.1)"
   ]
  },
  {
   "cell_type": "markdown",
   "id": "dfa9e2d9-a7c3-4d5d-b090-8a24594ee069",
   "metadata": {},
   "source": [
    "<h3>Graph of Accuracy and Validation Accuracy</h3>"
   ]
  },
  {
   "cell_type": "code",
   "execution_count": null,
   "id": "13fd18d9-72bd-401c-ace4-dce0c98ec78e",
   "metadata": {},
   "outputs": [],
   "source": [
    "test_loss, test_accuracy = model_GRU.evaluate(X_test, y_test)\n",
    "print(\"Test Accuracy:\", test_accuracy)"
   ]
  },
  {
   "cell_type": "code",
   "execution_count": null,
   "id": "af09eeed-e974-4224-865d-575179969d0b",
   "metadata": {},
   "outputs": [],
   "source": [
    "plt.plot(history.history['accuracy'], label='accuracy')\n",
    "plt.plot(history.history['val_accuracy'], label='val_accuracy')\n",
    "plt.xlabel('Epoch')\n",
    "plt.ylabel('Accuracy')\n",
    "plt.legend()\n",
    "plt.show()"
   ]
  },
  {
   "cell_type": "markdown",
   "id": "f11e0ab8-4c48-4c84-8d89-cd31f614e352",
   "metadata": {},
   "source": [
    "<h1>Model Interpretation (LIME)</h1>"
   ]
  },
  {
   "cell_type": "code",
   "execution_count": null,
   "id": "7a6917ca-12c7-420a-98ce-bddaf5ade8e6",
   "metadata": {},
   "outputs": [],
   "source": [
    "from lime.lime_text import LimeTextExplainer\n",
    "\n",
    "class_names = ['negative', 'neutral', 'positive']\n",
    "\n",
    "def predict_prob(texts):\n",
    "    sequences = tokenizer.texts_to_sequences(texts)\n",
    "    padded = pad_sequences(sequences, maxlen=max_sequence_length)\n",
    "    return model_GRU.predict(padded)\n",
    "\n",
    "explainer = LimeTextExplainer(class_names=class_names)\n",
    "\n",
    "idx = 7\n",
    "sample_text = test_data['text'].iloc[idx]\n",
    "exp = explainer.explain_instance(sample_text, predict_prob, num_features=10)\n",
    "\n",
    "print(f\"Document id: {idx}\")\n",
    "print(f\"Text: {sample_text}\")\n",
    "print(f\"True label: {test_data['sentiment'].iloc[idx]}\")\n",
    "exp.show_in_notebook(text=True)"
   ]
  },
  {
   "cell_type": "markdown",
   "id": "d849bd77-5dfb-45cd-b058-acc7e28c8fae",
   "metadata": {},
   "source": [
    "<h1>Evaluation Metrics</h1>"
   ]
  },
  {
   "cell_type": "code",
   "execution_count": null,
   "id": "28b060d7-d611-4db4-8a5d-d7c379c9bc7a",
   "metadata": {},
   "outputs": [],
   "source": [
    "from sklearn.metrics import classification_report\n",
    "\n",
    "test_predictions = model_GRU.predict(X_test)\n",
    "\n",
    "predicted_labels = [np.argmax(pred) for pred in test_predictions]\n",
    "true_labels = [np.argmax(label) for label in y_test]\n",
    "\n",
    "report = classification_report(true_labels, predicted_labels)\n",
    "print(\"Classification Report:\")\n",
    "print(report)"
   ]
  },
  {
   "cell_type": "markdown",
   "id": "6df127b9-7054-42a3-8d4a-c2630b3a899d",
   "metadata": {},
   "source": [
    "<h2>Prediction on custom data</h2>"
   ]
  },
  {
   "cell_type": "code",
   "execution_count": null,
   "id": "8aa33db6-8217-4222-bde5-7f8be6db4370",
   "metadata": {},
   "outputs": [],
   "source": [
    "import numpy as np\n",
    "from tensorflow.keras.preprocessing.sequence import pad_sequences\n",
    "\n",
    "def predict_sentiment(text, model, tokenizer, max_sequence_length):\n",
    "    sequence = tokenizer.texts_to_sequences([text])\n",
    "    padded_sequence = pad_sequences(sequence, maxlen=max_sequence_length)\n",
    "\n",
    "    pred_prob = model.predict(padded_sequence)\n",
    "\n",
    "    sentiment_label = np.argmax(pred_prob, axis=1)[0]\n",
    "    if sentiment_label == 0:\n",
    "        return 'Negative'\n",
    "    elif sentiment_label == 1:\n",
    "        return 'Neutral'\n",
    "    else:\n",
    "        return 'Positive'\n",
    "\n",
    "    return sentiment_label\n",
    "\n",
    "input_text1 = \"My best friend surprised me with tickets to my favorite band's concert, and I couldn't be happier.\"\n",
    "predicted_sentiment1 = predict_sentiment(input_text, model_GRU, tokenizer, max_sequence_length)\n",
    "print(\"Predicted Sentiment:\", predicted_sentiment)\n",
    "\n",
    "input_text2 = \"The weather today is neither too hot nor too cold.\"\n",
    "predicted_sentiment2 = predict_sentiment(input_text2, model_GRU, tokenizer, max_sequence_length)\n",
    "print(\"Predicted Sentiment:\", predicted_sentiment2)"
   ]
  }
 ],
 "metadata": {
  "kernelspec": {
   "display_name": "Python 3 (ipykernel)",
   "language": "python",
   "name": "python3"
  },
  "language_info": {
   "codemirror_mode": {
    "name": "ipython",
    "version": 3
   },
   "file_extension": ".py",
   "mimetype": "text/x-python",
   "name": "python",
   "nbconvert_exporter": "python",
   "pygments_lexer": "ipython3",
   "version": "3.11.0"
  }
 },
 "nbformat": 4,
 "nbformat_minor": 5
}
